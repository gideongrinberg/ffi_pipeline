{
 "cells": [
  {
   "cell_type": "code",
   "execution_count": 116,
   "id": "ac035f65-f609-4090-9113-5c180afcce88",
   "metadata": {},
   "outputs": [],
   "source": [
    "import os\n",
    "import coiled\n",
    "import unpopular\n",
    "import numpy as np\n",
    "import polars as pl\n",
    "import lightkurve as lk\n",
    "from dask.distributed import wait\n",
    "from astrocut import CutoutFactory\n",
    "from scipy.signal import find_peaks\n",
    "from astropy.coordinates import SkyCoord"
   ]
  },
  {
   "cell_type": "code",
   "execution_count": 92,
   "id": "d92ac780-9e07-4297-861e-e81a90ac3dd7",
   "metadata": {},
   "outputs": [],
   "source": [
    "targets = pl.read_parquet(\"./data/targets.parquet\").select(\"ID\", \"ra\", \"dec\", \"sector\", \"camera\", \"ccd\")"
   ]
  },
  {
   "cell_type": "code",
   "execution_count": 93,
   "id": "d05d1cd6-dc7f-43ea-9c7e-cf12f67fa5b1",
   "metadata": {},
   "outputs": [],
   "source": [
    "test_target = targets[-1].to_dicts()[0]\n",
    "coords = SkyCoord(test_target[\"ra\"], test_target[\"dec\"], frame=\"icrs\", unit=\"deg\")"
   ]
  },
  {
   "cell_type": "code",
   "execution_count": 99,
   "id": "4d0652d5-5848-4f4e-b400-b99192e1ada4",
   "metadata": {},
   "outputs": [],
   "source": [
    "def _count_harmonics(\n",
    "    lc: lk.LightCurve, height: float = 0.15\n",
    ") -> list[tuple[float, float]]:\n",
    "    \"\"\"Find the harmonics in the L-S periodogram of a given lightcurve.\n",
    "\n",
    "    Args:\n",
    "        lc (lk.LightCurve)\n",
    "        height (float, optional): The minimum height of a peak as a fraction of the main harmonic. Defaults to 0.15.\n",
    "\n",
    "    Returns:\n",
    "        list[tuple[float, float]]: A list containing each harmonic as a tuple of period and power.\n",
    "    \"\"\"\n",
    "\n",
    "    pg = lc.to_periodogram()\n",
    "    period = pg.period_at_max_power\n",
    "\n",
    "    if period.value >= 2:\n",
    "        return []\n",
    "\n",
    "    expected_harmonics = []\n",
    "    for i in range(1, 9):\n",
    "        expected_harmonics.append(period.value / i)\n",
    "\n",
    "    peaks, properties = find_peaks(\n",
    "        pg.power, distance=120, height=pg.max_power.value * height\n",
    "    )\n",
    "\n",
    "    peak_periods = [pg.period[idx].value for idx in peaks]\n",
    "\n",
    "    found_harmonics = []\n",
    "    for i, period in enumerate(peak_periods):\n",
    "        in_range = 0.9 * expected_harmonics[i] <= period <= 1.1 * expected_harmonics[i]\n",
    "        if in_range:\n",
    "            found_harmonics.append((period, properties[\"peak_heights\"][i]))\n",
    "    # for harmonic in expected_harmonics:\n",
    "    #     for idx, period in enumerate(peak_periods):\n",
    "    #         if 0.9 * harmonic <= period <= 1.1 * harmonic:\n",
    "    #             found_harmonics.append((period, properties[\"peak_heights\"][idx]))\n",
    "    #             break\n",
    "\n",
    "\n",
    "\n",
    "    return found_harmonics\n",
    "\n",
    "def is_complex(lc: lk.LightCurve) -> bool:\n",
    "    \"\"\"Check if a given lightcurve is complex by counting the number of harmonics.\"\"\"\n",
    "    return len(_count_harmonics(lc)) >= 3"
   ]
  },
  {
   "cell_type": "code",
   "execution_count": 115,
   "id": "c183b72a-40fe-40db-8d2b-712479a70581",
   "metadata": {},
   "outputs": [],
   "source": [
    "def make_lightcurve(tic, coords, sector, camera, ccd):\n",
    "    cube_cutter = CutoutFactory()\n",
    "\n",
    "    cube_file = f\"s3://stpubdata/tess/public/mast/tess-s{str(sector).zfill(4)}-{camera}-{ccd}-cube.fits\"\n",
    "    cutout = cube_cutter.cube_cut(cube_file, coordinates=coords, cutout_size=50, verbose=True, threads=\"auto\")\n",
    "\n",
    "    s = unpopular.Source(cutout, remove_bad=True)\n",
    "    s.set_aperture(rowlims=[25, 26], collims=[25, 26])\n",
    "    \n",
    "    s.add_cpm_model(exclusion_size=5, n=64, predictor_method=\"similar_brightness\")\n",
    "    s.set_regs([0.1])\n",
    "    s.holdout_fit_predict(k=100)\n",
    "\n",
    "    apt_detrended_flux = s.get_aperture_lc(data_type=\"cpm_subtracted_flux\")\n",
    "    \n",
    "    os.remove(cutout)\n",
    "    return lk.TessLightCurve(time=s.time, flux=apt_detrended_flux)"
   ]
  },
  {
   "cell_type": "code",
   "execution_count": 109,
   "id": "6f519135-547e-4ec1-a87d-dea7c50a483e",
   "metadata": {},
   "outputs": [],
   "source": [
    "def process_target(target):\n",
    "    coords = SkyCoord(target[\"ra\"], target[\"dec\"], frame=\"icrs\", unit=\"deg\")\n",
    "    lc = make_lightcurve(target[\"ID\"], coords, target[\"sector\"], target[\"camera\"], target[\"ccd\"])\n",
    "\n",
    "    try:\n",
    "        result = is_complex(lc)\n",
    "    except:\n",
    "        result = None\n",
    "    \n",
    "    return {**target, \"result\": result}"
   ]
  },
  {
   "cell_type": "code",
   "execution_count": 111,
   "id": "2138dff4-b7be-4a23-9df5-942ef63c69e3",
   "metadata": {},
   "outputs": [
    {
     "data": {
      "application/vnd.jupyter.widget-view+json": {
       "model_id": "65bc29637a93486cb16771bcc42406f8",
       "version_major": 2,
       "version_minor": 0
      },
      "text/plain": [
       "Output()"
      ]
     },
     "metadata": {},
     "output_type": "display_data"
    },
    {
     "data": {
      "text/html": [
       "<pre style=\"white-space:pre;overflow-x:auto;line-height:normal;font-family:Menlo,'DejaVu Sans Mono',consolas,'Courier New',monospace\"></pre>\n"
      ],
      "text/plain": []
     },
     "metadata": {},
     "output_type": "display_data"
    },
    {
     "data": {
      "text/html": [
       "<pre style=\"white-space:pre;overflow-x:auto;line-height:normal;font-family:Menlo,'DejaVu Sans Mono',consolas,'Courier New',monospace\">╭──────────────────────────────── <span style=\"color: #008000; text-decoration-color: #008000; font-weight: bold\">Package Info</span> ────────────────────────────────╮\n",
       "│                             ╷                                                │\n",
       "│  <span style=\"font-weight: bold\"> Package                   </span>│<span style=\"font-weight: bold\"> Note                                         </span>  │\n",
       "│ ╶───────────────────────────┼──────────────────────────────────────────────╴ │\n",
       "│   coiled_local_ffi_pipeline │ Source wheel built from                        │\n",
       "│                             │ ~/Documents/ffi_pipeline                       │\n",
       "│                             ╵                                                │\n",
       "╰──────────────────────────────────────────────────────────────────────────────╯\n",
       "</pre>\n"
      ],
      "text/plain": [
       "╭──────────────────────────────── \u001b[1;32mPackage Info\u001b[0m ────────────────────────────────╮\n",
       "│                             ╷                                                │\n",
       "│  \u001b[1m \u001b[0m\u001b[1mPackage                  \u001b[0m\u001b[1m \u001b[0m│\u001b[1m \u001b[0m\u001b[1mNote                                        \u001b[0m\u001b[1m \u001b[0m  │\n",
       "│ ╶───────────────────────────┼──────────────────────────────────────────────╴ │\n",
       "│   coiled_local_ffi_pipeline │ Source wheel built from                        │\n",
       "│                             │ ~/Documents/ffi_pipeline                       │\n",
       "│                             ╵                                                │\n",
       "╰──────────────────────────────────────────────────────────────────────────────╯\n"
      ]
     },
     "metadata": {},
     "output_type": "display_data"
    },
    {
     "data": {
      "application/vnd.jupyter.widget-view+json": {
       "model_id": "5ce71e14f6f24704b7a2359f74a26ac7",
       "version_major": 2,
       "version_minor": 0
      },
      "text/plain": [
       "Output()"
      ]
     },
     "metadata": {},
     "output_type": "display_data"
    },
    {
     "data": {
      "text/html": [
       "<pre style=\"white-space:pre;overflow-x:auto;line-height:normal;font-family:Menlo,'DejaVu Sans Mono',consolas,'Courier New',monospace\"></pre>\n"
      ],
      "text/plain": []
     },
     "metadata": {},
     "output_type": "display_data"
    }
   ],
   "source": [
    "cluster = coiled.Cluster(\n",
    "    n_workers=90,\n",
    "    region=\"us-east-1\",\n",
    "    name=\"ffi_pipeline_test\",\n",
    "    spot_policy=\"spot_with_fallback\"\n",
    ")\n",
    "\n",
    "client = cluster.get_client()"
   ]
  },
  {
   "cell_type": "code",
   "execution_count": 112,
   "id": "8c371760-e7b6-4254-ae55-5ca0a7ff10d9",
   "metadata": {},
   "outputs": [
    {
     "name": "stderr",
     "output_type": "stream",
     "text": [
      "/Users/gideongrinberg/Library/Caches/pypoetry/virtualenvs/ffi-pipeline-CkRoHhFU-py3.13/lib/python3.13/site-packages/distributed/client.py:3370: UserWarning: Sending large graph of size 10.78 MiB.\n",
      "This may cause some slowdown.\n",
      "Consider loading the data with Dask directly\n",
      " or using futures or delayed objects to embed the data into the graph without repetition.\n",
      "See also https://docs.dask.org/en/stable/best-practices.html#load-data-with-dask for more information.\n",
      "  warnings.warn(\n"
     ]
    },
    {
     "ename": "NameError",
     "evalue": "name 'wait' is not defined",
     "output_type": "error",
     "traceback": [
      "\u001b[31m---------------------------------------------------------------------------\u001b[39m",
      "\u001b[31mNameError\u001b[39m                                 Traceback (most recent call last)",
      "\u001b[36mCell\u001b[39m\u001b[36m \u001b[39m\u001b[32mIn[112]\u001b[39m\u001b[32m, line 2\u001b[39m\n\u001b[32m      1\u001b[39m futures = client.map(process_target, targets[\u001b[32m0\u001b[39m:\u001b[32m100_000\u001b[39m].to_dicts())\n\u001b[32m----> \u001b[39m\u001b[32m2\u001b[39m \u001b[43mwait\u001b[49m(futures)\n",
      "\u001b[31mNameError\u001b[39m: name 'wait' is not defined"
     ]
    }
   ],
   "source": [
    "futures = client.map(process_target, targets[0:100_000].to_dicts())\n",
    "wait(futures)"
   ]
  }
 ],
 "metadata": {
  "kernelspec": {
   "display_name": "Python 3 (ipykernel)",
   "language": "python",
   "name": "python3"
  },
  "language_info": {
   "codemirror_mode": {
    "name": "ipython",
    "version": 3
   },
   "file_extension": ".py",
   "mimetype": "text/x-python",
   "name": "python",
   "nbconvert_exporter": "python",
   "pygments_lexer": "ipython3",
   "version": "3.13.2"
  }
 },
 "nbformat": 4,
 "nbformat_minor": 5
}
