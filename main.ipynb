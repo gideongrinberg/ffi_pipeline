{
 "cells": [
  {
   "cell_type": "code",
   "execution_count": null,
   "id": "ac035f65-f609-4090-9113-5c180afcce88",
   "metadata": {},
   "outputs": [],
   "source": [
    "import os\n",
    "import unpopular\n",
    "import numpy as np\n",
    "import polars as pl\n",
    "import lightkurve as lk\n",
    "from astrocut import CutoutFactory\n",
    "from scipy.signal import find_peaks\n",
    "from astropy.coordinates import SkyCoord\n",
    "from dask.distributed import wait, Client, LocalCluster"
   ]
  },
  {
   "cell_type": "code",
   "execution_count": 2,
   "id": "d92ac780-9e07-4297-861e-e81a90ac3dd7",
   "metadata": {},
   "outputs": [],
   "source": [
    "targets = pl.read_parquet(\"./data/targets.parquet\").select(\"ID\", \"ra\", \"dec\", \"sector\", \"camera\", \"ccd\")"
   ]
  },
  {
   "cell_type": "code",
   "execution_count": 4,
   "id": "4d0652d5-5848-4f4e-b400-b99192e1ada4",
   "metadata": {},
   "outputs": [],
   "source": [
    "def _count_harmonics(\n",
    "    lc: lk.LightCurve, height: float = 0.15\n",
    ") -> list[tuple[float, float]]:\n",
    "    \"\"\"Find the harmonics in the L-S periodogram of a given lightcurve.\n",
    "\n",
    "    Args:\n",
    "        lc (lk.LightCurve)\n",
    "        height (float, optional): The minimum height of a peak as a fraction of the main harmonic. Defaults to 0.15.\n",
    "\n",
    "    Returns:\n",
    "        list[tuple[float, float]]: A list containing each harmonic as a tuple of period and power.\n",
    "    \"\"\"\n",
    "\n",
    "    pg = lc.to_periodogram()\n",
    "    period = pg.period_at_max_power\n",
    "\n",
    "    if period.value >= 2:\n",
    "        return []\n",
    "\n",
    "    expected_harmonics = []\n",
    "    for i in range(1, 9):\n",
    "        expected_harmonics.append(period.value / i)\n",
    "\n",
    "    peaks, properties = find_peaks(\n",
    "        pg.power, distance=120, height=pg.max_power.value * height\n",
    "    )\n",
    "\n",
    "    peak_periods = [pg.period[idx].value for idx in peaks]\n",
    "\n",
    "    found_harmonics = []\n",
    "    for i, period in enumerate(peak_periods):\n",
    "        in_range = 0.9 * expected_harmonics[i] <= period <= 1.1 * expected_harmonics[i]\n",
    "        if in_range:\n",
    "            found_harmonics.append((period, properties[\"peak_heights\"][i]))\n",
    "    # for harmonic in expected_harmonics:\n",
    "    #     for idx, period in enumerate(peak_periods):\n",
    "    #         if 0.9 * harmonic <= period <= 1.1 * harmonic:\n",
    "    #             found_harmonics.append((period, properties[\"peak_heights\"][idx]))\n",
    "    #             break\n",
    "\n",
    "\n",
    "\n",
    "    return found_harmonics\n",
    "\n",
    "def is_complex(lc: lk.LightCurve) -> bool:\n",
    "    \"\"\"Check if a given lightcurve is complex by counting the number of harmonics.\"\"\"\n",
    "    return len(_count_harmonics(lc)) >= 3"
   ]
  },
  {
   "cell_type": "code",
   "execution_count": 5,
   "id": "c183b72a-40fe-40db-8d2b-712479a70581",
   "metadata": {},
   "outputs": [],
   "source": [
    "def make_lightcurve(tic, coords, sector, camera, ccd):\n",
    "    cube_cutter = CutoutFactory()\n",
    "\n",
    "    cube_file = f\"s3://stpubdata/tess/public/mast/tess-s{str(sector).zfill(4)}-{camera}-{ccd}-cube.fits\"\n",
    "    cutout = cube_cutter.cube_cut(cube_file, coordinates=coords, cutout_size=50, verbose=True, threads=\"auto\")\n",
    "\n",
    "    s = unpopular.Source(cutout, remove_bad=True)\n",
    "    s.set_aperture(rowlims=[25, 26], collims=[25, 26])\n",
    "    \n",
    "    s.add_cpm_model(exclusion_size=5, n=64, predictor_method=\"similar_brightness\")\n",
    "    s.set_regs([0.1])\n",
    "    s.holdout_fit_predict(k=100)\n",
    "\n",
    "    apt_detrended_flux = s.get_aperture_lc(data_type=\"cpm_subtracted_flux\")\n",
    "    \n",
    "    os.remove(cutout)\n",
    "    return lk.TessLightCurve(time=s.time, flux=apt_detrended_flux)"
   ]
  },
  {
   "cell_type": "code",
   "execution_count": 6,
   "id": "6f519135-547e-4ec1-a87d-dea7c50a483e",
   "metadata": {},
   "outputs": [],
   "source": [
    "def process_target(target):\n",
    "    coords = SkyCoord(target[\"ra\"], target[\"dec\"], frame=\"icrs\", unit=\"deg\")\n",
    "    lc = make_lightcurve(target[\"ID\"], coords, target[\"sector\"], target[\"camera\"], target[\"ccd\"])\n",
    "\n",
    "    try:\n",
    "        result = is_complex(lc)\n",
    "    except:\n",
    "        result = None\n",
    "    \n",
    "    return {**target, \"result\": result}"
   ]
  },
  {
   "cell_type": "code",
   "execution_count": null,
   "id": "2138dff4-b7be-4a23-9df5-942ef63c69e3",
   "metadata": {},
   "outputs": [
    {
     "name": "stderr",
     "output_type": "stream",
     "text": [
      "2025-03-12 08:18:01,919 - distributed.scheduler - WARNING - Removing worker 'tcp://127.0.0.1:55883' caused the cluster to lose already computed task(s), which will be recomputed elsewhere: {'process_target-f37843a2081de9be5d6adcf56ea38342', 'process_target-61562b6ed050aad33ac809341d97949a', 'process_target-b62ec460e5be424ac2702c1dc32ac950', 'process_target-fe756d3e2b2575a11611c20545887968', 'process_target-3d8da8b198ed7614882cee24a9b527ce', 'process_target-a81ff1fd0cecdaf9c40a350ca7dcc7c7'} (stimulus_id='handle-worker-cleanup-1741781881.9189131')\n",
      "2025-03-12 08:18:01,946 - distributed.scheduler - WARNING - Removing worker 'tcp://127.0.0.1:55865' caused the cluster to lose already computed task(s), which will be recomputed elsewhere: {'process_target-5938848867061a8970b5acf08aeede6e', 'process_target-754ad9991acee2ed3f40dd5667d0b491', 'process_target-07e211590abc33f3cdd8af2aa337fcd2', 'process_target-42d32a674505551670f5b55379740f06', 'process_target-986fdbad28b64c363fd0838a667f49f1', 'process_target-9ac3f983520447320824ae2e21903610', 'process_target-b01632037d8cc78682fa6b27554dc172'} (stimulus_id='handle-worker-cleanup-1741781881.946731')\n",
      "2025-03-12 08:18:01,948 - distributed.scheduler - WARNING - Removing worker 'tcp://127.0.0.1:55872' caused the cluster to lose already computed task(s), which will be recomputed elsewhere: {'process_target-1c2ee706714a834266c9cc42f3f26c00', 'process_target-1077492b502dd6de1facf53fe39ba27d', 'process_target-15030c371c60f5530f157fffc132b0a0', 'process_target-5d8c196a61b5fc0c3d964880d6671278', 'process_target-2a1ba1872a164c0aeee8ba55af5f3113', 'process_target-bb0a783cfce978d44cef61996dbbaef2', 'process_target-49196346abe01abda401c6adcbfe098b'} (stimulus_id='handle-worker-cleanup-1741781881.948568')\n",
      "2025-03-12 08:18:01,949 - distributed.scheduler - WARNING - Removing worker 'tcp://127.0.0.1:55876' caused the cluster to lose already computed task(s), which will be recomputed elsewhere: {'process_target-b04f366fadd0d1ab0116fb3a370f42ac', 'process_target-e13de7f62c8691d42b2f5567f934756a', 'process_target-bd8e346b7824a63f82640c763bd64032', 'process_target-6b007004d32beb557bec7fe9b4242f6f', 'process_target-ff6397796af1274465a0dea1223715ee'} (stimulus_id='handle-worker-cleanup-1741781881.949852')\n",
      "2025-03-12 08:18:01,950 - distributed.scheduler - WARNING - Removing worker 'tcp://127.0.0.1:55886' caused the cluster to lose already computed task(s), which will be recomputed elsewhere: {'process_target-ca4938e8bb7ca3f8a1e6f99bdb073983', 'process_target-d12c876917b0ec32ca4377d5f8624d64', 'process_target-6fdaa834fa3c3b23b399152e5952bb66', 'process_target-f67726818f309039d38a2f55959961db', 'process_target-652d0a4784c1e2d2a729b2c1c171a319', 'process_target-fc7bcdd594de4e22b19523a90c99118f'} (stimulus_id='handle-worker-cleanup-1741781881.950828')\n",
      "2025-03-12 08:18:01,951 - distributed.scheduler - WARNING - Removing worker 'tcp://127.0.0.1:55871' caused the cluster to lose already computed task(s), which will be recomputed elsewhere: {'process_target-7c0cd850fb73aa7a912dc04790459b62', 'process_target-ba7aa394cc3b0e45647e9910aeaa58bd', 'process_target-487eccf741ef703b2a1eccef79b15252', 'process_target-0c2c36add784f62ec6acdd76ff72c52a', 'process_target-ee80d9a6ca279f773c1df5717d61cbf5'} (stimulus_id='handle-worker-cleanup-1741781881.951564')\n",
      "2025-03-12 08:18:01,952 - distributed.scheduler - WARNING - Removing worker 'tcp://127.0.0.1:55868' caused the cluster to lose already computed task(s), which will be recomputed elsewhere: {'process_target-f68a672ab1505465ae941a1d8dd83447', 'process_target-2ba3abc5ec6fda10ece81d4b51981b7b', 'process_target-0ec93b33d2de91c08d126f768eb730f1', 'process_target-deddd07ea018f48432214f54cf75cc42', 'process_target-13299693b70ba1b83bc3f889a3dfc41c', 'process_target-c6fe22ec7801d37a6819124182b8c760', 'process_target-f876b80f75c07844b3088d46fdcac4b3'} (stimulus_id='handle-worker-cleanup-1741781881.952246')\n",
      "2025-03-12 08:18:01,953 - distributed.scheduler - WARNING - Removing worker 'tcp://127.0.0.1:55873' caused the cluster to lose already computed task(s), which will be recomputed elsewhere: {'process_target-a35eff635119580a3823d1531a76284f', 'process_target-ce99033d4079f1220d94d683c2466e92', 'process_target-95c324048b2e8d9f47f680a61dbedb19', 'process_target-c517226f7c73d38dc29c3f5192ac399b', 'process_target-f6a9408e39a58bbcf448b72721815372', 'process_target-0ae42405601a04d9a7cbd29abdcb1161'} (stimulus_id='handle-worker-cleanup-1741781881.95345')\n"
     ]
    }
   ],
   "source": [
    "num_workers = os.cpu_count()\n",
    "cluster = LocalCluster(n_workers=num_workers, threads_per_worker=1, processes=True)\n",
    "client = Client(cluster)"
   ]
  },
  {
   "cell_type": "code",
   "execution_count": null,
   "id": "8c371760-e7b6-4254-ae55-5ca0a7ff10d9",
   "metadata": {},
   "outputs": [],
   "source": [
    "futures = client.map(process_target, targets[0:1000].to_dicts())\n",
    "wait(futures)"
   ]
  }
 ],
 "metadata": {
  "kernelspec": {
   "display_name": "Python 3 (ipykernel)",
   "language": "python",
   "name": "python3"
  },
  "language_info": {
   "codemirror_mode": {
    "name": "ipython",
    "version": 3
   },
   "file_extension": ".py",
   "mimetype": "text/x-python",
   "name": "python",
   "nbconvert_exporter": "python",
   "pygments_lexer": "ipython3",
   "version": "3.13.2"
  }
 },
 "nbformat": 4,
 "nbformat_minor": 5
}
